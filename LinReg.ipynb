{
 "cells": [
  {
   "cell_type": "code",
   "execution_count": 38,
   "metadata": {},
   "outputs": [],
   "source": [
    "import numpy as np\n",
    "import torch\n",
    "from torch import nn\n",
    "import matplotlib.pyplot as plt\n",
    "from sklearn.model_selection import train_test_split\n",
    "from torch.utils.data import DataLoader, Dataset\n",
    "from models import HorseNet, HorseshoeRegression, HorseshoeGLM\n",
    "from Layer_classes_clean import MeanFieldHorseshoeLayer_Ghosh, MeanFieldHorseshoeLayer_Ullrich\n",
    "from train_test import train_wrap, test\n",
    "from torchvision import datasets, transforms\n",
    "from objectives import regression_objective, poisson_objective, binary_classification_objective, multiclass_classification_objective\n",
    "from utils import plot_weights, prune_model, compare_models, compare_shrinkage_rates\n",
    "\n",
    "class Dataset(Dataset):\n",
    "    def __init__(self, X, y):\n",
    "        self.X = torch.tensor(X, dtype=torch.float32)\n",
    "        self.y = torch.tensor(y, dtype=torch.float32).unsqueeze(1)  # Ensure (N, 1) shape\n",
    "    \n",
    "    def __len__(self):\n",
    "        return len(self.X)\n",
    "    \n",
    "    def __getitem__(self, idx):\n",
    "        return self.X[idx], self.y[idx]\n",
    "    \n",
    "def plot_vars(model):\n",
    "    for i, layer in enumerate(model.layers):\n",
    "        #if isinstance(layer, MeanFieldHorseshoeLayer_Post_Activation):\n",
    "        print(f\"Layer {i} weights:\")\n",
    "        #print(layer.w_mu_q.data)  # This should show zeroed-out weights\n",
    "        plt.hist(layer.w_logvar.exp().data.numpy().flatten(), bins=100)\n",
    "        plt.show()\n",
    "        \n",
    "def plot_local_shrinkage(model):\n",
    "    for i, layer in enumerate(model.layers):\n",
    "        #if isinstance(layer, MeanFieldHorseshoeLayer_Post_Activation):\n",
    "        print(f\"Layer {i} weights:\")\n",
    "        #print(layer.w_mu_q.data)  # This should show zeroed-out weights\n",
    "        plt.hist(layer.z_mu.data.numpy().flatten(), bins=100)\n",
    "        plt.show()\n",
    "        \n",
    "def plot_global_shrinkage(model):\n",
    "    for i, layer in enumerate(model.layers):\n",
    "        #if isinstance(layer, MeanFieldHorseshoeLayer_Post_Activation):\n",
    "        print(f\"Layer {i} weights:\")\n",
    "        #print(layer.w_mu_q.data)  # This should show zeroed-out weights\n",
    "        plt.hist(layer.s_mu.data.numpy().flatten(), bins=100)\n",
    "        plt.show()"
   ]
  },
  {
   "cell_type": "code",
   "execution_count": null,
   "metadata": {},
   "outputs": [],
   "source": [
    "# Define a simple dataset for testing if you like\n",
    "class SimpleDataset(Dataset):\n",
    "    def __init__(self, num_samples=100):\n",
    "        # Sample from a bivariate standard normal distribution\n",
    "        x1 = torch.randn(num_samples, 1)  # ~ N(0,1)\n",
    "        x2 = torch.randn(num_samples, 1)  # ~ N(0,1)\n",
    "        \n",
    "        # Define the function based on a 2D Gaussian-like structure\n",
    "        y = torch.exp(-0.5 * (x1**2 + x2**2))  # Bivariate Gaussian density\n",
    "\n",
    "        # Stack into a single tensor for shuffling\n",
    "        dataset = torch.cat((x1, x2, y), dim=1)\n",
    "\n",
    "        # Shuffle the dataset\n",
    "        shuffled_indices = torch.randperm(num_samples)\n",
    "        dataset = dataset[shuffled_indices]\n",
    "\n",
    "        # Extract shuffled x1, x2, y\n",
    "        self.x1 = dataset[:, 0].view(-1, 1)\n",
    "        self.x2 = dataset[:, 1].view(-1, 1)\n",
    "        self.y = dataset[:, 2].view(-1, 1)\n",
    "\n",
    "    def __len__(self):\n",
    "        return len(self.x1)\n",
    "\n",
    "    def __getitem__(self, idx):\n",
    "        x_input = torch.cat([self.x1[idx], self.x2[idx]], dim=0)\n",
    "        return x_input, self.y[idx]"
   ]
  },
  {
   "cell_type": "markdown",
   "metadata": {},
   "source": [
    "## LINEAR REGRESSION"
   ]
  },
  {
   "cell_type": "code",
   "execution_count": 2,
   "metadata": {},
   "outputs": [],
   "source": [
    "np.random.seed(42)\n",
    "n, p = 10000, 100\n",
    "X = np.random.randn(n, p).astype(np.float32)  # Ensure dtype is compatible with PyTorch\n",
    "beta_true = np.zeros(p)\n",
    "beta_true[:5] = 10.\n",
    "beta_true[5:20] = 2.\n",
    "y = (X @ beta_true + np.random.randn(n)).astype(np.float32)\n",
    "\n",
    "\n",
    "X_train, X_test, y_train, y_test = train_test_split(X, y, test_size=0.2, random_state=42)\n",
    "\n",
    "class RegressionDataset(Dataset):\n",
    "    def __init__(self, X, y):\n",
    "        self.X = torch.tensor(X, dtype=torch.float32)\n",
    "        self.y = torch.tensor(y, dtype=torch.float32).unsqueeze(1)  # Ensure (N, 1) shape\n",
    "    \n",
    "    def __len__(self):\n",
    "        return len(self.X)\n",
    "    \n",
    "    def __getitem__(self, idx):\n",
    "        return self.X[idx], self.y[idx]\n",
    "\n",
    "\n",
    "batch_size = 64  # You can adjust this\n",
    "train_dataset = RegressionDataset(X_train, y_train)\n",
    "test_dataset = RegressionDataset(X_test, y_test)\n",
    "\n",
    "train_loader = DataLoader(train_dataset, batch_size=batch_size, shuffle=True)\n",
    "test_loader = DataLoader(test_dataset, batch_size=batch_size, shuffle=False)\n",
    "\n",
    "lm_model = HorseshoeRegression(y_train, X_train, iter=2000, intercept=False, ab=(1, 1))\n",
    "lm_results = lm_model.fit()"
   ]
  },
  {
   "cell_type": "code",
   "execution_count": null,
   "metadata": {},
   "outputs": [],
   "source": [
    "bnn_HS_linreg = HorseNet(input_dim=100,\n",
    "                               hidden_dims=[],\n",
    "                               output_dim=1,\n",
    "                               activation=nn.Identity(),\n",
    "                               pre_activations=False,\n",
    "                               tau_0=np.sqrt(1e-12),\n",
    "                               prune=True)\n",
    "\n",
    "\n",
    "optim_HS_linreg = torch.optim.Adam(bnn_HS_linreg.parameters(), lr=0.001, eps=1e-2)\n",
    "\n",
    "train_options = {\n",
    "    \"epochs\": 1000,\n",
    "    \"track\": True,\n",
    "    \"classification\": False,\n",
    "    \"p\": 2.0,\n",
    "    \"mc_sample\": False,\n",
    "    \"cosine_annealing\": True,\n",
    "    \"device\": \"cpu\"\n",
    "}\n",
    "\n",
    "results_HS_linreg = train_wrap(model = bnn_HS_linreg, \n",
    "                    optimizer = optim_HS_linreg,\n",
    "                    train_loader = train_loader,\n",
    "                    N=n,\n",
    "                    objective=regression_objective,\n",
    "                     **train_options)\n",
    "\n"
   ]
  },
  {
   "cell_type": "markdown",
   "metadata": {},
   "source": [
    "It seems that number of epochs control sparsity more than the size of $\\tau_0$. The more epochs, the more weights get a high $\\kappa$ value similar to the linear regression"
   ]
  },
  {
   "cell_type": "code",
   "execution_count": null,
   "metadata": {},
   "outputs": [],
   "source": [
    "models = {\n",
    "    \"BNN (p=2)\": bnn_HS_linreg\n",
    "}\n",
    "\n",
    "#compare_models(models, lm_results, X_test, y_test, test_loader, link=\"identity\")\n",
    "compare_shrinkage_rates(models, lm_results)"
   ]
  },
  {
   "cell_type": "code",
   "execution_count": null,
   "metadata": {},
   "outputs": [],
   "source": [
    "from utils import plot_training_progress\n",
    "plot_training_progress(results_HS_linreg['kl_history'][100:], results_HS_linreg['loss_history'][100:], results_HS_linreg['neg_elbo_history'][100:], 10000, \"\")\n"
   ]
  },
  {
   "cell_type": "code",
   "execution_count": null,
   "metadata": {},
   "outputs": [],
   "source": [
    "plot_weights(bnn_HS_linreg)"
   ]
  },
  {
   "cell_type": "code",
   "execution_count": null,
   "metadata": {},
   "outputs": [],
   "source": [
    "test(bnn_HS_linreg, test_loader, classification=False, deterministic=False)\n",
    "prune_model(bnn_HS_linreg, threshold=0.25)\n",
    "test(bnn_HS_linreg, test_loader, classification=False, deterministic=False)"
   ]
  },
  {
   "cell_type": "markdown",
   "metadata": {},
   "source": [
    "## LOGISTIC REGRESSION"
   ]
  },
  {
   "cell_type": "code",
   "execution_count": 20,
   "metadata": {},
   "outputs": [],
   "source": [
    "# 1️⃣ Generate synthetic data\n",
    "np.random.seed(42)\n",
    "n, p = 10000, 100\n",
    "X = np.random.randn(n, p).astype(np.float32)  # Ensure dtype is compatible with PyTorch\n",
    "beta_true = np.zeros(p)\n",
    "beta_true[:5] = 10.\n",
    "beta_true[5:20] = 2.\n",
    "\n",
    "\n",
    "# Compute logits: X @ beta + noise\n",
    "eta = X @ beta_true + np.random.randn(n).astype(np.float32)\n",
    "\n",
    "# Apply sigmoid function to get probabilities\n",
    "Ey = (1 / (1 + np.exp(-eta))).astype(np.float32)  # Sigmoid function\n",
    "#Ey = np.log(Ey / (1 - Ey))  # Logit function\n",
    "\n",
    "y = np.random.binomial(1, Ey).astype(np.float32) \n",
    "\n",
    "# 2️⃣ Split into train and test sets\n",
    "X_train, X_test, y_train, y_test = train_test_split(X, y, test_size=0.2, random_state=42)\n",
    "\n",
    "\n",
    "batch_size = 64  # You can adjust this\n",
    "train_dataset = Dataset(X_train, y_train)\n",
    "test_dataset = Dataset(X_test, y_test)\n",
    "\n",
    "train_loader = DataLoader(train_dataset, batch_size=batch_size, shuffle=True)\n",
    "test_loader = DataLoader(test_dataset, batch_size=batch_size, shuffle=False)\n",
    "\n",
    "glm_model = HorseshoeGLM(y_train, X_train, iter=2000, intercept=False, ab=(1, 1), link='logit')\n",
    "glm_results = glm_model.fit()"
   ]
  },
  {
   "cell_type": "code",
   "execution_count": null,
   "metadata": {},
   "outputs": [],
   "source": [
    "bnn_HS_logit = HorseNet(input_dim=100,\n",
    "                            hidden_dims=[],\n",
    "                            output_dim=1,\n",
    "                            activation=nn.Sigmoid(),\n",
    "                            pre_activations=False,\n",
    "                            tau_0=np.sqrt(1e-12))\n",
    "\n",
    "optim_HS_logit = torch.optim.Adam(bnn_HS_logit.parameters(), lr=0.001, eps=1e-4)\n",
    "\n",
    "train_options_logit = {\n",
    "    \"epochs\": 50,\n",
    "    \"track\": True,\n",
    "    \"p\": 2.0,\n",
    "    \"link\": \"logit\",\n",
    "    \"mc_sample\": False,\n",
    "    \"cosine_annealing\": False,\n",
    "    \"device\": \"cpu\"\n",
    "}\n",
    "\n",
    "results_HS_logit = train_wrap(model = bnn_HS_logit, \n",
    "                    optimizer = optim_HS_logit,\n",
    "                    train_loader = train_loader,\n",
    "                    N=n,\n",
    "                    objective=binary_classification_objective,\n",
    "                     **train_options_logit)\n"
   ]
  },
  {
   "cell_type": "code",
   "execution_count": null,
   "metadata": {},
   "outputs": [],
   "source": [
    "def test_binary(model, test_loader, classification=False, deterministic=True, device='cpu'):\n",
    "    if deterministic:\n",
    "        model.eval()\n",
    "    else:\n",
    "        model.train()\n",
    "        \n",
    "    test_loss = 0\n",
    "    correct = 0\n",
    "\n",
    "    with torch.no_grad():  # Ensures gradients are not computed\n",
    "        for data, target in test_loader:\n",
    "            data, target = data.to(device), target.to(device)\n",
    "            output = model(data)\n",
    "\n",
    "            if classification:\n",
    "                # Apply sigmoid to convert logits to probabilities\n",
    "                probs = torch.sigmoid(output)  \n",
    "                \n",
    "                # Compute BCE loss\n",
    "                loss_fn = nn.BCEWithLogitsLoss()\n",
    "                test_loss += loss_fn(output, target).sum().item()  \n",
    "\n",
    "                # Convert probabilities to binary predictions\n",
    "                pred = (probs > 0.5).float()\n",
    "                correct += pred.eq(target.view_as(pred)).sum().item()\n",
    "            else:\n",
    "                test_loss += nn.MSELoss(reduction=\"sum\")(output, target).item()\n",
    "\n",
    "        test_loss /= len(test_loader.dataset)\n",
    "\n",
    "    if classification:\n",
    "        print('Test loss: {:.4f}, Accuracy: {}/{} ({:.2f}%)\\n'.format(\n",
    "            test_loss, correct, len(test_loader.dataset),\n",
    "            100. * correct / len(test_loader.dataset)))\n",
    "        return pred\n",
    "    else:\n",
    "        print('Test loss (MSE): {:.4f}\\n'.format(test_loss))\n",
    "\n",
    "preds = test_binary(bnn_HS_logit, test_loader, classification=True, deterministic=True)"
   ]
  },
  {
   "cell_type": "code",
   "execution_count": null,
   "metadata": {},
   "outputs": [],
   "source": [
    "models = {\n",
    "    \"BNN\": bnn_HS_logit\n",
    "}\n",
    "\n",
    "compare_models(models, glm_results, X_test, y_test, test_loader, link=\"logit\")\n",
    "compare_shrinkage_rates(models, glm_results)"
   ]
  },
  {
   "cell_type": "code",
   "execution_count": 30,
   "metadata": {},
   "outputs": [
    {
     "name": "stdout",
     "output_type": "stream",
     "text": [
      "Test loss: 0.0012, Accuracy: 1940/2000 (97.00%)\n",
      "\n",
      "Layer 0: Pruned 19.00% weights (19/100)\n",
      "Test loss: 0.0013, Accuracy: 1928/2000 (96.40%)\n",
      "\n"
     ]
    }
   ],
   "source": [
    "test_binary(bnn_HS_logit, test_loader, classification=True, deterministic=False)\n",
    "prune_model(bnn_HS_logit, threshold=1e-2)\n",
    "test_binary(bnn_HS_logit, test_loader, classification=True, deterministic=False)"
   ]
  },
  {
   "cell_type": "markdown",
   "metadata": {},
   "source": [
    "## POISSON REGRESSION"
   ]
  },
  {
   "cell_type": "code",
   "execution_count": 31,
   "metadata": {},
   "outputs": [],
   "source": [
    "\n",
    "# 1️⃣ Generate synthetic Poisson data\n",
    "np.random.seed(42)\n",
    "n, p = 100000, 100\n",
    "X = np.random.randn(n, p).astype(np.float32)  # Ensure dtype is compatible with PyTorch\n",
    "\n",
    "# Define true coefficients (some strong, some weak signals)\n",
    "beta_true = np.zeros(p)\n",
    "beta_true[:5] = 0.5  # Stronger signals\n",
    "beta_true[5:20] = 0.2  # Weaker signals\n",
    "\n",
    "# Compute linear predictor (log rate)\n",
    "eta = X @ beta_true + np.random.randn(n).astype(np.float32) * 0.1  # Small Gaussian noise\n",
    "\n",
    "# Generate Poisson-distributed response variable\n",
    "y = np.random.poisson(np.exp(eta)).astype(np.float32)  # Poisson process\n",
    "\n",
    "# 2️⃣ Split into train and test sets\n",
    "X_train, X_test, y_train, y_test = train_test_split(X, y, test_size=0.2, random_state=42)\n",
    "\n",
    "# 3️⃣ Update dataset class (no change needed)\n",
    "train_dataset = Dataset(X_train, y_train)\n",
    "test_dataset = Dataset(X_test, y_test)\n",
    "\n",
    "train_loader = DataLoader(train_dataset, batch_size=64, shuffle=True)\n",
    "test_loader = DataLoader(test_dataset, batch_size=64, shuffle=False)\n",
    "\n",
    "# 4️⃣ Fit Bayesian Poisson regression with Horseshoe prior\n",
    "glm_model = HorseshoeGLM(y_train, X_train, iter=2000, intercept=False, ab=(1, 1), link='log')\n",
    "glm_results = glm_model.fit()\n"
   ]
  },
  {
   "cell_type": "code",
   "execution_count": 33,
   "metadata": {},
   "outputs": [
    {
     "name": "stderr",
     "output_type": "stream",
     "text": [
      "/Users/augustarnstad/Library/CloudStorage/OneDrive-UniversitetetiOslo/UiO/HS_bnn/Horsehoe_BNN/Layer_classes_clean.py:421: UserWarning: To copy construct from a tensor, it is recommended to use sourceTensor.clone().detach() or sourceTensor.clone().detach().requires_grad_(True), rather than torch.tensor(sourceTensor).\n",
      "  - 0.5 * D * torch.log(torch.tensor(zs**2, device=self.w_mu_q.device)) \\\n",
      "/Users/augustarnstad/Library/CloudStorage/OneDrive-UniversitetetiOslo/UiO/HS_bnn/Horsehoe_BNN/Layer_classes_clean.py:433: UserWarning: To copy construct from a tensor, it is recommended to use sourceTensor.clone().detach() or sourceTensor.clone().detach().requires_grad_(True), rather than torch.tensor(sourceTensor).\n",
      "  lambda_a_prior = torch.tensor(lambda_a_prior, dtype=torch.float32, device=device)\n"
     ]
    },
    {
     "name": "stdout",
     "output_type": "stream",
     "text": [
      "Epoch 10: Negative ELBO = -2.138606\n",
      "Epoch 20: Negative ELBO = -2.148503\n",
      "Epoch 30: Negative ELBO = -2.149275\n",
      "Epoch 40: Negative ELBO = -2.149314\n",
      "Epoch 50: Negative ELBO = -2.149668\n"
     ]
    }
   ],
   "source": [
    "#from train_test import train_wrap\n",
    "\n",
    "bnn_HS_poisson = HorseNet(input_dim=100,\n",
    "                            hidden_dims=[],\n",
    "                            output_dim=1,\n",
    "                            activation=nn.Identity(), # We use the log in the objective function\n",
    "                            pre_activations=False,\n",
    "                            tau_0=np.sqrt(1e-12))\n",
    "\n",
    "optim_HS_poisson = torch.optim.Adam(bnn_HS_poisson.parameters(), lr=0.001, eps=1e-4)\n",
    "\n",
    "train_options = {\n",
    "    \"epochs\": 50,\n",
    "    \"track\": True,\n",
    "    \"classification\": False,\n",
    "    \"p\": 2.0,\n",
    "    \"mc_sample\": False,\n",
    "    \"cosine_annealing\": True,\n",
    "    \"device\": \"cpu\"\n",
    "}\n",
    "\n",
    "\n",
    "results_HS_poisson = train_wrap(model = bnn_HS_poisson, \n",
    "                    optimizer = optim_HS_poisson,\n",
    "                    train_loader = train_loader,\n",
    "                    N=n,\n",
    "                    objective=poisson_objective,\n",
    "                     **train_options)\n"
   ]
  },
  {
   "cell_type": "code",
   "execution_count": 34,
   "metadata": {},
   "outputs": [
    {
     "data": {
      "image/png": "[encoded data removed]",
      "text/plain": [
       "<Figure size 800x600 with 1 Axes>"
      ]
     },
     "metadata": {},
     "output_type": "display_data"
    }
   ],
   "source": [
    "def test_poisson(model, test_loader, deterministic=True, device='cpu'):\n",
    "    if deterministic:\n",
    "        model.eval()\n",
    "    else:\n",
    "        model.train()\n",
    "        \n",
    "    test_loss = 0\n",
    "    mse_loss = 0  # Track mean squared error\n",
    "    total_samples = 0\n",
    "\n",
    "    loss_fn = nn.PoissonNLLLoss(log_input=True)  # Poisson loss\n",
    "\n",
    "    with torch.no_grad():  # No gradients needed during testing\n",
    "        for data, target in test_loader:\n",
    "            data, target = data.to(device), target.to(device)\n",
    "            output = model(data)  # Model outputs log-rate η (not exponentiated)\n",
    "\n",
    "            # Compute Poisson NLL loss\n",
    "            test_loss += loss_fn(output, target).sum().item()\n",
    "            \n",
    "            # Convert log-rate to mean prediction: E[Y | X] = exp(η)\n",
    "            predicted_counts = torch.exp(output)\n",
    "\n",
    "            # Compute MSE between actual and predicted counts\n",
    "            mse_loss += nn.MSELoss()(predicted_counts, target).item()\n",
    "            \n",
    "            total_samples += len(target)\n",
    "\n",
    "    test_loss /= total_samples\n",
    "    mse_loss /= total_samples\n",
    "\n",
    "    print(f'Test Poisson NLL Loss: {test_loss:.4f}, Test MSE: {mse_loss:.4f}')\n",
    "\n",
    "def plot_poisson_results(model, test_loader, device=\"cpu\"):\n",
    "    model.eval()\n",
    "    \n",
    "    actual_counts = []\n",
    "    predicted_counts = []\n",
    "\n",
    "    with torch.no_grad():\n",
    "        for data, target in test_loader:\n",
    "            data, target = data.to(device), target.to(device)\n",
    "            output = model(data)  # Model outputs log-rate η\n",
    "\n",
    "            # Convert log-rate to expected count: E[Y | X] = exp(η)\n",
    "            predicted = torch.exp(output)\n",
    "\n",
    "            actual_counts.extend(target.cpu().numpy())\n",
    "            predicted_counts.extend(predicted.cpu().numpy())\n",
    "\n",
    "    # Scatter plot: Actual vs. Predicted\n",
    "    plt.figure(figsize=(8, 6))\n",
    "    plt.scatter(actual_counts, predicted_counts, alpha=0.5)\n",
    "    plt.xlabel(\"Actual Counts (y)\")\n",
    "    plt.ylabel(\"Predicted Counts (exp(η))\")\n",
    "    plt.title(\"Poisson Regression: Actual vs. Predicted Counts\")\n",
    "    plt.plot([min(actual_counts), max(actual_counts)], \n",
    "             [min(actual_counts), max(actual_counts)], \n",
    "             color=\"red\", linestyle=\"--\", label=\"Perfect Prediction\")\n",
    "    plt.legend()\n",
    "    plt.show()\n",
    "\n",
    "plot_poisson_results(bnn_HS_poisson, test_loader, device=\"cpu\")"
   ]
  },
  {
   "cell_type": "code",
   "execution_count": 35,
   "metadata": {},
   "outputs": [
    {
     "data": {
      "image/png": "[encoded data removed]",
      "text/plain": [
       "<Figure size 600x600 with 1 Axes>"
      ]
     },
     "metadata": {},
     "output_type": "display_data"
    }
   ],
   "source": [
    "models = {\n",
    "    \"BNN\": bnn_HS_poisson\n",
    "}\n",
    "compare_shrinkage_rates(models, glm_results)"
   ]
  },
  {
   "cell_type": "markdown",
   "metadata": {},
   "source": [
    "## MNIST"
   ]
  },
  {
   "cell_type": "code",
   "execution_count": 39,
   "metadata": {},
   "outputs": [
    {
     "name": "stdout",
     "output_type": "stream",
     "text": [
      "Downloading http://yann.lecun.com/exdb/mnist/train-images-idx3-ubyte.gz\n",
      "Failed to download (trying next):\n",
      "HTTP Error 404: Not Found\n",
      "\n",
      "Downloading https://ossci-datasets.s3.amazonaws.com/mnist/train-images-idx3-ubyte.gz\n",
      "Downloading https://ossci-datasets.s3.amazonaws.com/mnist/train-images-idx3-ubyte.gz to ./data/MNIST/raw/train-images-idx3-ubyte.gz\n"
     ]
    },
    {
     "name": "stderr",
     "output_type": "stream",
     "text": [
      "100%|██████████| 9.91M/9.91M [00:02<00:00, 3.74MB/s]\n"
     ]
    },
    {
     "name": "stdout",
     "output_type": "stream",
     "text": [
      "Extracting ./data/MNIST/raw/train-images-idx3-ubyte.gz to ./data/MNIST/raw\n",
      "\n",
      "Downloading http://yann.lecun.com/exdb/mnist/train-labels-idx1-ubyte.gz\n",
      "Failed to download (trying next):\n",
      "HTTP Error 404: Not Found\n",
      "\n",
      "Downloading https://ossci-datasets.s3.amazonaws.com/mnist/train-labels-idx1-ubyte.gz\n",
      "Downloading https://ossci-datasets.s3.amazonaws.com/mnist/train-labels-idx1-ubyte.gz to ./data/MNIST/raw/train-labels-idx1-ubyte.gz\n"
     ]
    },
    {
     "name": "stderr",
     "output_type": "stream",
     "text": [
      "100%|██████████| 28.9k/28.9k [00:00<00:00, 238kB/s]\n"
     ]
    },
    {
     "name": "stdout",
     "output_type": "stream",
     "text": [
      "Extracting ./data/MNIST/raw/train-labels-idx1-ubyte.gz to ./data/MNIST/raw\n",
      "\n",
      "Downloading http://yann.lecun.com/exdb/mnist/t10k-images-idx3-ubyte.gz\n",
      "Failed to download (trying next):\n",
      "HTTP Error 404: Not Found\n",
      "\n",
      "Downloading https://ossci-datasets.s3.amazonaws.com/mnist/t10k-images-idx3-ubyte.gz\n",
      "Downloading https://ossci-datasets.s3.amazonaws.com/mnist/t10k-images-idx3-ubyte.gz to ./data/MNIST/raw/t10k-images-idx3-ubyte.gz\n"
     ]
    },
    {
     "name": "stderr",
     "output_type": "stream",
     "text": [
      "100%|██████████| 1.65M/1.65M [00:02<00:00, 569kB/s]\n"
     ]
    },
    {
     "name": "stdout",
     "output_type": "stream",
     "text": [
      "Extracting ./data/MNIST/raw/t10k-images-idx3-ubyte.gz to ./data/MNIST/raw\n",
      "\n",
      "Downloading http://yann.lecun.com/exdb/mnist/t10k-labels-idx1-ubyte.gz\n",
      "Failed to download (trying next):\n",
      "HTTP Error 404: Not Found\n",
      "\n",
      "Downloading https://ossci-datasets.s3.amazonaws.com/mnist/t10k-labels-idx1-ubyte.gz\n",
      "Downloading https://ossci-datasets.s3.amazonaws.com/mnist/t10k-labels-idx1-ubyte.gz to ./data/MNIST/raw/t10k-labels-idx1-ubyte.gz\n"
     ]
    },
    {
     "name": "stderr",
     "output_type": "stream",
     "text": [
      "100%|██████████| 4.54k/4.54k [00:00<00:00, 298kB/s]"
     ]
    },
    {
     "name": "stdout",
     "output_type": "stream",
     "text": [
      "Extracting ./data/MNIST/raw/t10k-labels-idx1-ubyte.gz to ./data/MNIST/raw\n",
      "\n"
     ]
    },
    {
     "name": "stderr",
     "output_type": "stream",
     "text": [
      "\n"
     ]
    }
   ],
   "source": [
    "#MNIST dataset\n",
    "N=60000\n",
    "kwargs = {}#{'num_workers': 1, 'pin_memory': True} if FLAGS.cuda else {}\n",
    "\n",
    "train_loader = torch.utils.data.DataLoader(\n",
    "    datasets.MNIST('./data', train=True, download=True,\n",
    "                    transform=transforms.Compose([\n",
    "                        transforms.ToTensor(),lambda x: 2 * (x - 0.5),\n",
    "                    ])),\n",
    "    batch_size=64, shuffle=True, **kwargs)\n",
    "\n",
    "test_loader = torch.utils.data.DataLoader(\n",
    "    datasets.MNIST('./data', train=False, transform=transforms.Compose([\n",
    "        transforms.ToTensor(), lambda x: 2 * (x - 0.5),\n",
    "    ])),\n",
    "    batch_size=64, shuffle=True, **kwargs)"
   ]
  },
  {
   "cell_type": "code",
   "execution_count": 47,
   "metadata": {},
   "outputs": [
    {
     "name": "stderr",
     "output_type": "stream",
     "text": [
      "/Users/augustarnstad/Library/CloudStorage/OneDrive-UniversitetetiOslo/UiO/HS_bnn/Horsehoe_BNN/Layer_classes_clean.py:206: UserWarning: To copy construct from a tensor, it is recommended to use sourceTensor.clone().detach() or sourceTensor.clone().detach().requires_grad_(True), rather than torch.tensor(sourceTensor).\n",
      "  lambda_a_prior = torch.tensor(lambda_a_prior, dtype=torch.float32, device=device)\n"
     ]
    },
    {
     "name": "stdout",
     "output_type": "stream",
     "text": [
      "Epoch 10: Negative ELBO = 19.090172\n",
      "Epoch 20: Negative ELBO = 19.058967\n",
      "Epoch 30: Negative ELBO = 19.046357\n"
     ]
    },
    {
     "name": "stderr",
     "output_type": "stream",
     "text": [
      "/Users/augustarnstad/Library/CloudStorage/OneDrive-UniversitetetiOslo/UiO/HS_bnn/Horsehoe_BNN/Layer_classes_clean.py:421: UserWarning: To copy construct from a tensor, it is recommended to use sourceTensor.clone().detach() or sourceTensor.clone().detach().requires_grad_(True), rather than torch.tensor(sourceTensor).\n",
      "  - 0.5 * D * torch.log(torch.tensor(zs**2, device=self.w_mu_q.device)) \\\n",
      "/Users/augustarnstad/Library/CloudStorage/OneDrive-UniversitetetiOslo/UiO/HS_bnn/Horsehoe_BNN/Layer_classes_clean.py:433: UserWarning: To copy construct from a tensor, it is recommended to use sourceTensor.clone().detach() or sourceTensor.clone().detach().requires_grad_(True), rather than torch.tensor(sourceTensor).\n",
      "  lambda_a_prior = torch.tensor(lambda_a_prior, dtype=torch.float32, device=device)\n"
     ]
    },
    {
     "name": "stdout",
     "output_type": "stream",
     "text": [
      "Epoch 10: Negative ELBO = 19.556757\n",
      "Epoch 20: Negative ELBO = 19.398296\n",
      "Epoch 30: Negative ELBO = 19.336699\n"
     ]
    }
   ],
   "source": [
    "bnn_HS_MNIST_Ghosh = HorseNet(input_dim=(28*28), \n",
    "                                    hidden_dims=[512, 256, 128], \n",
    "                                    output_dim=10,\n",
    "                                    activation=nn.ReLU(),\n",
    "                                    pre_activations=True,\n",
    "                                    tau_0=np.sqrt(1e-12))\n",
    "\n",
    "bnn_HS_MNIST_Ullrich = HorseNet(input_dim=(28*28), \n",
    "                                    hidden_dims=[512, 256, 128], \n",
    "                                    output_dim=10,\n",
    "                                    activation=nn.ReLU(),\n",
    "                                    pre_activations=False,\n",
    "                                    tau_0=np.sqrt(1e-12))\n",
    "\n",
    "optimizer_HS_Ghosh = torch.optim.Adam(bnn_HS_MNIST_Ghosh.parameters(), lr=0.0001, eps=1e-4)\n",
    "\n",
    "optimizer_HS_Ullrich = torch.optim.Adam(bnn_HS_MNIST_Ullrich.parameters(), lr=0.0001, eps=1e-4)\n",
    "\n",
    "train_options_MNIST = {\n",
    "    \"epochs\": 30,\n",
    "    \"track\": True,\n",
    "    \"mc_sample\": False,\n",
    "    \"cosine_annealing\": False,\n",
    "    \"check_list\": [1], #, 10, 50], #, 100, 150, 200],\n",
    "    \"device\": \"cpu\"\n",
    "}\n",
    "\n",
    "results_Ghosh = train_wrap(model = bnn_HS_MNIST_Ghosh,\n",
    "                              optimizer = optimizer_HS_Ghosh, \n",
    "                              train_loader = train_loader, \n",
    "                              N=N,\n",
    "                              objective = multiclass_classification_objective,\n",
    "                              **train_options_MNIST)\n",
    "\n",
    "results_Ullrich = train_wrap(model = bnn_HS_MNIST_Ullrich,\n",
    "                              optimizer = optimizer_HS_Ullrich, \n",
    "                              train_loader = train_loader, \n",
    "                              N=N,\n",
    "                              objective = multiclass_classification_objective,\n",
    "                              **train_options_MNIST)\n",
    "\n"
   ]
  },
  {
   "cell_type": "code",
   "execution_count": 48,
   "metadata": {},
   "outputs": [
    {
     "name": "stderr",
     "output_type": "stream",
     "text": [
      "/Users/augustarnstad/Library/CloudStorage/OneDrive-UniversitetetiOslo/UiO/HS_bnn/.venv/lib/python3.9/site-packages/torch/nn/_reduction.py:51: UserWarning: size_average and reduce args will be deprecated, please use reduction='sum' instead.\n",
      "  warnings.warn(warning.format(ret))\n"
     ]
    },
    {
     "name": "stdout",
     "output_type": "stream",
     "text": [
      "Test loss: 0.1361, Accuracy: 9584/10000 (95.84%)\n",
      "\n"
     ]
    }
   ],
   "source": [
    "test(bnn_HS_MNIST_Ullrich, test_loader, classification=True)\n",
    "# prune_model(bnn_HS_MNIST_Ullrich, threshold=0.1)\n",
    "# test(bnn_HS_MNIST_Ullrich, test_loader, classification=True)"
   ]
  },
  {
   "cell_type": "code",
   "execution_count": 50,
   "metadata": {},
   "outputs": [],
   "source": [
    "torch.save({\n",
    "    'model_state_dict': bnn_HS_MNIST_Ghosh.state_dict(),\n",
    "    'optimizer_state_dict': optimizer_HS_Ghosh.state_dict(),\n",
    "    'kl_history': results_Ghosh['kl_history'],\n",
    "    'loss_history': results_Ghosh['loss_history'],\n",
    "    'neg_elbo_history': results_Ghosh['neg_elbo_history'],\n",
    "    'ratio_history': results_Ghosh['ratio_history'],\n",
    "    'architecture': [784, 512, 256, 128, 10]\n",
    "}, \"models/Image_classification/bnn_HS_MNIST_Ghosh.pth\")\n",
    "\n",
    "\n",
    "torch.save({\n",
    "    'model_state_dict': bnn_HS_MNIST_Ullrich.state_dict(),\n",
    "    'optimizer_state_dict': optimizer_HS_Ullrich.state_dict(),\n",
    "    'kl_history': results_Ullrich['kl_history'],\n",
    "    'loss_history': results_Ullrich['loss_history'],\n",
    "    'neg_elbo_history': results_Ullrich['neg_elbo_history'],\n",
    "    'ratio_history': results_Ullrich['ratio_history'],\n",
    "    'architecture': [784, 512, 256, 128, 10]\n",
    "}, \"models/Image_classification/bnn_HS_MNIST_Ullrich.pth\")"
   ]
  },
  {
   "cell_type": "code",
   "execution_count": 51,
   "metadata": {},
   "outputs": [
    {
     "name": "stderr",
     "output_type": "stream",
     "text": [
      "/var/folders/2g/tqlxxltj3g10t6vhctfp9j8h0000gn/T/ipykernel_39631/2095859264.py:1: FutureWarning: You are using `torch.load` with `weights_only=False` (the current default value), which uses the default pickle module implicitly. It is possible to construct malicious pickle data which will execute arbitrary code during unpickling (See https://github.com/pytorch/pytorch/blob/main/SECURITY.md#untrusted-models for more details). In a future release, the default value for `weights_only` will be flipped to `True`. This limits the functions that could be executed during unpickling. Arbitrary objects will no longer be allowed to be loaded via this mode unless they are explicitly allowlisted by the user via `torch.serialization.add_safe_globals`. We recommend you start setting `weights_only=True` for any use case where you don't have full control of the loaded file. Please open an issue on GitHub for any issues related to this experimental feature.\n",
      "  checkpoint_Ghosh = torch.load(\"models/Image_classification/bnn_HS_MNIST_Ghosh.pth\")\n",
      "/var/folders/2g/tqlxxltj3g10t6vhctfp9j8h0000gn/T/ipykernel_39631/2095859264.py:11: FutureWarning: You are using `torch.load` with `weights_only=False` (the current default value), which uses the default pickle module implicitly. It is possible to construct malicious pickle data which will execute arbitrary code during unpickling (See https://github.com/pytorch/pytorch/blob/main/SECURITY.md#untrusted-models for more details). In a future release, the default value for `weights_only` will be flipped to `True`. This limits the functions that could be executed during unpickling. Arbitrary objects will no longer be allowed to be loaded via this mode unless they are explicitly allowlisted by the user via `torch.serialization.add_safe_globals`. We recommend you start setting `weights_only=True` for any use case where you don't have full control of the loaded file. Please open an issue on GitHub for any issues related to this experimental feature.\n",
      "  checkpoint_Ullrich = torch.load(\"models/Image_classification/bnn_HS_MNIST_Ullrich.pth\")\n"
     ]
    }
   ],
   "source": [
    "checkpoint_Ghosh = torch.load(\"models/Image_classification/bnn_HS_MNIST_Ghosh.pth\")\n",
    "bnn_HS_MNIST_Ghosh = HorseNet(input_dim=784, hidden_dims=[512, 256, 128], output_dim=10, pre_activations=True)\n",
    "bnn_HS_MNIST_Ghosh.load_state_dict(checkpoint_Ghosh['model_state_dict'])\n",
    "optim_Ghosh = torch.optim.Adam(bnn_HS_MNIST_Ghosh.parameters(), lr=0.001)\n",
    "optim_Ghosh.load_state_dict(checkpoint_Ghosh['optimizer_state_dict'])\n",
    "kl_history_HS_Ghosh = checkpoint_Ghosh['kl_history']\n",
    "loss_history_HS_Ghosh = checkpoint_Ghosh['loss_history']\n",
    "neg_elbo_history_HS_Ghosh = checkpoint_Ghosh['neg_elbo_history']\n",
    "\n",
    "\n",
    "checkpoint_Ullrich = torch.load(\"models/Image_classification/bnn_HS_MNIST_Ullrich.pth\")\n",
    "bnn_HS_MNIST_Ullrich = HorseNet(input_dim=784, hidden_dims=[512, 256, 128], output_dim=10, pre_activations=False)\n",
    "bnn_HS_MNIST_Ullrich.load_state_dict(checkpoint_Ullrich['model_state_dict'])\n",
    "optim_Jeff = torch.optim.Adam(bnn_HS_MNIST_Ullrich.parameters(), lr=0.001)\n",
    "optim_Jeff.load_state_dict(checkpoint_Ullrich['optimizer_state_dict'])\n",
    "kl_history_HS_Ullrich = checkpoint_Ullrich['kl_history']\n",
    "loss_history_HS_Ullrich = checkpoint_Ullrich['loss_history']\n",
    "neg_elbo_history_HS_Ullrich = checkpoint_Ullrich['neg_elbo_history']"
   ]
  },
  {
   "cell_type": "code",
   "execution_count": null,
   "metadata": {},
   "outputs": [],
   "source": []
  }
 ],
 "metadata": {
  "kernelspec": {
   "display_name": ".venv",
   "language": "python",
   "name": "python3"
  },
  "language_info": {
   "codemirror_mode": {
    "name": "ipython",
    "version": 3
   },
   "file_extension": ".py",
   "mimetype": "text/x-python",
   "name": "python",
   "nbconvert_exporter": "python",
   "pygments_lexer": "ipython3",
   "version": "3.9.6"
  }
 },
 "nbformat": 4,
 "nbformat_minor": 2
}
